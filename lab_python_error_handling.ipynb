{
  "cells": [
    {
      "cell_type": "markdown",
      "id": "25d7736c-ba17-4aff-b6bb-66eba20fbf4e",
      "metadata": {
        "id": "25d7736c-ba17-4aff-b6bb-66eba20fbf4e"
      },
      "source": [
        "# Lab | Error Handling"
      ]
    },
    {
      "cell_type": "markdown",
      "id": "bc99b386-7508-47a0-bcdb-d969deaf6c8b",
      "metadata": {
        "id": "bc99b386-7508-47a0-bcdb-d969deaf6c8b"
      },
      "source": [
        "## Exercise: Error Handling for Managing Customer Orders\n",
        "\n",
        "The implementation of your code for managing customer orders assumes that the user will always enter a valid input.\n",
        "\n",
        "For example, we could modify the `initialize_inventory` function to include error handling.\n",
        "   - If the user enters an invalid quantity (e.g., a negative value or a non-numeric value), display an error message and ask them to re-enter the quantity for that product.\n",
        "   - Use a try-except block to handle the error and continue prompting the user until a valid quantity is entered.\n",
        "\n",
        "```python\n",
        "# Step 1: Define the function for initializing the inventory with error handling\n",
        "def initialize_inventory(products):\n",
        "    inventory = {}\n",
        "    for product in products:\n",
        "        valid_quantity = False\n",
        "        while not valid_quantity:\n",
        "            try:\n",
        "                quantity = int(input(f\"Enter the quantity of {product}s available: \"))\n",
        "                if quantity < 0:\n",
        "                    raise ValueError(\"Invalid quantity! Please enter a non-negative value.\")\n",
        "                valid_quantity = True\n",
        "            except ValueError as error:\n",
        "                print(f\"Error: {error}\")\n",
        "        inventory[product] = quantity\n",
        "    return inventory\n",
        "\n",
        "# Or, in another way:\n",
        "\n",
        "def initialize_inventory(products):\n",
        "    inventory = {}\n",
        "    for product in products:\n",
        "        valid_input = False\n",
        "        while not valid_input:\n",
        "            try:\n",
        "                quantity = int(input(f\"Enter the quantity of {product}s available: \"))\n",
        "                if quantity >= 0:\n",
        "                    inventory[product] = quantity\n",
        "                    valid_input = True\n",
        "                else:\n",
        "                    print(\"Quantity cannot be negative. Please enter a valid quantity.\")\n",
        "            except ValueError:\n",
        "                print(\"Invalid input. Please enter a valid quantity.\")\n",
        "    return inventory\n",
        "```\n",
        "\n",
        "Let's enhance your code by implementing error handling to handle invalid inputs.\n",
        "\n",
        "Follow the steps below to complete the exercise:\n",
        "\n",
        "2. Modify the `calculate_total_price` function to include error handling.\n",
        "   - If the user enters an invalid price (e.g., a negative value or a non-numeric value), display an error message and ask them to re-enter the price for that product.\n",
        "   - Use a try-except block to handle the error and continue prompting the user until a valid price is entered.\n",
        "\n",
        "3. Modify the `get_customer_orders` function to include error handling.\n",
        "   - If the user enters an invalid number of orders (e.g., a negative value or a non-numeric value), display an error message and ask them to re-enter the number of orders.\n",
        "   - If the user enters an invalid product name (e.g., a product name that is not in the inventory), or that doesn't have stock available, display an error message and ask them to re-enter the product name. *Hint: you will need to pass inventory as a parameter*\n",
        "   - Use a try-except block to handle the error and continue prompting the user until a valid product name is entered.\n",
        "\n",
        "4. Test your code by running the program and deliberately entering invalid quantities and product names. Make sure the error handling mechanism works as expected.\n"
      ]
    },
    {
      "cell_type": "code",
      "source": [
        "products = [\"t-shirt\", \"mug\", \"book\", \"hat\", \"keychain\"]\n",
        "\n",
        "def initialize_inventory(products):\n",
        "\n",
        "  inventory = {}\n",
        "\n",
        "  for item in products:\n",
        "    quantity = False\n",
        "\n",
        "    while not quantity:\n",
        "      try:\n",
        "        amount = int(input(f\"Write the quantity of {item} : \"))\n",
        "        if amount < 0:\n",
        "          raise ValueError(\"ERROR - enter the amount of products.\")\n",
        "        quantity = True\n",
        "        if amount == 0:\n",
        "          raise ValueError(\"DONT HAVE STOCK\")\n",
        "\n",
        "      except ValueError as error:\n",
        "        print(f\"Error: {error}\")\n",
        "\n",
        "    inventory[item] = amount\n",
        "\n",
        "  return inventory\n",
        "\n",
        "initialize_inventory(products)"
      ],
      "metadata": {
        "colab": {
          "base_uri": "https://localhost:8080/"
        },
        "id": "srff52NOEo-A",
        "outputId": "83a2dc9b-7db8-46f9-ec0a-2de5592fa3bf"
      },
      "id": "srff52NOEo-A",
      "execution_count": 2,
      "outputs": [
        {
          "name": "stdout",
          "output_type": "stream",
          "text": [
            "Write the quantity of t-shirt : 5\n",
            "Write the quantity of mug : 5\n",
            "Write the quantity of book : 5.6\n",
            "Error: invalid literal for int() with base 10: '5.6'\n",
            "Write the quantity of book : 5\n",
            "Write the quantity of hat : 5\n",
            "Write the quantity of keychain : 5\n"
          ]
        },
        {
          "output_type": "execute_result",
          "data": {
            "text/plain": [
              "{'t-shirt': 5, 'mug': 5, 'book': 5, 'hat': 5, 'keychain': 5}"
            ]
          },
          "metadata": {},
          "execution_count": 2
        }
      ]
    },
    {
      "cell_type": "code",
      "source": [
        "def get_customer_orders():\n",
        "    customer_orders = set()\n",
        "    intention = \"yes\"\n",
        "\n",
        "    while intention == \"yes\":\n",
        "        products = input(\"Order your product: \")\n",
        "        if products in products:\n",
        "            customer_orders.add(product)\n",
        "            if len(customer_orders) == len(products):\n",
        "                print(\"Added already. Please continue\")\n",
        "                break\n",
        "        else:\n",
        "            print(\"Not available\")\n",
        "        intention = input(\"Continue?\")\n",
        "\n",
        "    print(\"Your order is \", customer_orders)\n",
        "    return customer_orders\n",
        "\n",
        "\n",
        "get_customer_orders()"
      ],
      "metadata": {
        "colab": {
          "base_uri": "https://localhost:8080/",
          "height": 357
        },
        "id": "8fUnX-aiE9TN",
        "outputId": "51ac9010-f189-446d-d1d7-6bdf283eb21e"
      },
      "id": "8fUnX-aiE9TN",
      "execution_count": 6,
      "outputs": [
        {
          "name": "stdout",
          "output_type": "stream",
          "text": [
            "Order your product: book\n"
          ]
        },
        {
          "output_type": "error",
          "ename": "NameError",
          "evalue": "ignored",
          "traceback": [
            "\u001b[0;31m---------------------------------------------------------------------------\u001b[0m",
            "\u001b[0;31mNameError\u001b[0m                                 Traceback (most recent call last)",
            "\u001b[0;32m<ipython-input-6-ebc9ab3bfcec>\u001b[0m in \u001b[0;36m<cell line: 20>\u001b[0;34m()\u001b[0m\n\u001b[1;32m     18\u001b[0m \u001b[0;34m\u001b[0m\u001b[0m\n\u001b[1;32m     19\u001b[0m \u001b[0;34m\u001b[0m\u001b[0m\n\u001b[0;32m---> 20\u001b[0;31m \u001b[0mget_customer_orders\u001b[0m\u001b[0;34m(\u001b[0m\u001b[0;34m)\u001b[0m\u001b[0;34m\u001b[0m\u001b[0;34m\u001b[0m\u001b[0m\n\u001b[0m",
            "\u001b[0;32m<ipython-input-6-ebc9ab3bfcec>\u001b[0m in \u001b[0;36mget_customer_orders\u001b[0;34m()\u001b[0m\n\u001b[1;32m      6\u001b[0m         \u001b[0mproducts\u001b[0m \u001b[0;34m=\u001b[0m \u001b[0minput\u001b[0m\u001b[0;34m(\u001b[0m\u001b[0;34m\"Order your product: \"\u001b[0m\u001b[0;34m)\u001b[0m\u001b[0;34m\u001b[0m\u001b[0;34m\u001b[0m\u001b[0m\n\u001b[1;32m      7\u001b[0m         \u001b[0;32mif\u001b[0m \u001b[0mproducts\u001b[0m \u001b[0;32min\u001b[0m \u001b[0mproducts\u001b[0m\u001b[0;34m:\u001b[0m\u001b[0;34m\u001b[0m\u001b[0;34m\u001b[0m\u001b[0m\n\u001b[0;32m----> 8\u001b[0;31m             \u001b[0mcustomer_orders\u001b[0m\u001b[0;34m.\u001b[0m\u001b[0madd\u001b[0m\u001b[0;34m(\u001b[0m\u001b[0mproduct\u001b[0m\u001b[0;34m)\u001b[0m\u001b[0;34m\u001b[0m\u001b[0;34m\u001b[0m\u001b[0m\n\u001b[0m\u001b[1;32m      9\u001b[0m             \u001b[0;32mif\u001b[0m \u001b[0mlen\u001b[0m\u001b[0;34m(\u001b[0m\u001b[0mcustomer_orders\u001b[0m\u001b[0;34m)\u001b[0m \u001b[0;34m==\u001b[0m \u001b[0mlen\u001b[0m\u001b[0;34m(\u001b[0m\u001b[0mproducts\u001b[0m\u001b[0;34m)\u001b[0m\u001b[0;34m:\u001b[0m\u001b[0;34m\u001b[0m\u001b[0;34m\u001b[0m\u001b[0m\n\u001b[1;32m     10\u001b[0m                 \u001b[0mprint\u001b[0m\u001b[0;34m(\u001b[0m\u001b[0;34m\"Added already. Please continue\"\u001b[0m\u001b[0;34m)\u001b[0m\u001b[0;34m\u001b[0m\u001b[0;34m\u001b[0m\u001b[0m\n",
            "\u001b[0;31mNameError\u001b[0m: name 'product' is not defined"
          ]
        }
      ]
    }
  ],
  "metadata": {
    "kernelspec": {
      "display_name": "Python 3 (ipykernel)",
      "language": "python",
      "name": "python3"
    },
    "language_info": {
      "codemirror_mode": {
        "name": "ipython",
        "version": 3
      },
      "file_extension": ".py",
      "mimetype": "text/x-python",
      "name": "python",
      "nbconvert_exporter": "python",
      "pygments_lexer": "ipython3",
      "version": "3.9.13"
    },
    "colab": {
      "provenance": []
    }
  },
  "nbformat": 4,
  "nbformat_minor": 5
}