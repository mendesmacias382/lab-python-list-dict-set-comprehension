{
  "cells": [
    {
      "cell_type": "markdown",
      "id": "25d7736c-ba17-4aff-b6bb-66eba20fbf4e",
      "metadata": {
        "id": "25d7736c-ba17-4aff-b6bb-66eba20fbf4e"
      },
      "source": [
        "# Lab | List, Dict and Set Comprehension"
      ]
    },
    {
      "cell_type": "markdown",
      "id": "7dd3cbde-675a-4b81-92c3-f728846dbe06",
      "metadata": {
        "id": "7dd3cbde-675a-4b81-92c3-f728846dbe06"
      },
      "source": [
        "## Exercise: Managing Customer Orders Optimized with Comprehension"
      ]
    },
    {
      "cell_type": "markdown",
      "id": "5d500160-2fb7-4777-b5e4-09d45ebaf328",
      "metadata": {
        "id": "5d500160-2fb7-4777-b5e4-09d45ebaf328"
      },
      "source": [
        "In the previous exercise, you developed a program to manage customer orders and inventory. Now, let's take it a step further and incorporate comprehension into your code.\n",
        "\n",
        "Follow the steps below to complete the exercise:\n",
        "\n",
        "1. Review your code from the previous exercise and identify areas where you can apply comprehension to simplify and streamline your code.\n",
        "\n",
        "    - *Hint: Apply it to initialize inventory, updating the inventory and printing the updated inventory.*\n",
        "    \n",
        "    - For example, in initializing the inventory, we could have:\n",
        "    \n",
        "        ```python\n",
        "        def initialize_inventory(products):\n",
        "            inventory = {product: int(input(f\"Enter the quantity of {product}s available: \")) for product in products}\n",
        "            return inventory\n",
        "\n",
        "        ```\n",
        "<br>\n",
        "    \n",
        "    \n",
        "2. Modify the function get_customer_orders so it prompts the user to enter the number of customer orders and gathers the product names using a loop and user input. Use comprehension.\n",
        "\n",
        "3. Add a new function to calculate the total price of the customer order. For each product in customer_orders, prompt the user to enter the price of that product. Use comprehension to calculate the total price. Note: assume that the user can only have 1 unit of each product.\n",
        "\n",
        "4. Modify the update_inventory function to remove the product from the inventory if its quantity becomes zero after fulfilling the customer orders. Use comprehension to filter out the products with a quantity of zero from the inventory.\n",
        "\n",
        "5. Print the total price of the customer order.\n",
        "\n",
        "Your code should produce output similar to the following:\n",
        "\n",
        "```python\n",
        "Enter the quantity of t-shirts available:  5\n",
        "Enter the quantity of mugs available:  4\n",
        "Enter the quantity of hats available:  3\n",
        "Enter the quantity of books available:  2\n",
        "Enter the quantity of keychains available:  1\n",
        "Enter the number of customer orders:  2\n",
        "Enter the name of a product that a customer wants to order:  hat\n",
        "Enter the name of a product that a customer wants to order:  keychain\n",
        "\n",
        "Order Statistics:\n",
        "Total Products Ordered: 2\n",
        "Percentage of Unique Products Ordered: 40.0\n",
        "\n",
        "Updated Inventory:\n",
        "t-shirt: 5\n",
        "mug: 4\n",
        "hat: 2\n",
        "book: 2\n",
        "Enter the price of keychain:  5\n",
        "Enter the price of hat:  10\n",
        "Total Price: 15.0\n",
        "\n",
        "```\n"
      ]
    },
    {
      "cell_type": "code",
      "source": [
        "# 1.Review your code from the previous exercise and identify areas where you can apply comprehension\n",
        "#to simplify and streamline your code.\n",
        "\n",
        "#  def initialize_inventory(products):\n",
        "    #  inventory = {product: int(input(f\"Enter the quantity of {product}s available: \")) for product in products}\n",
        "\n",
        "\n",
        "products = [\"t-shirt\", \"mug\", \"book\", \"hat\", \"keychain\"]\n",
        "\n",
        "def initialize_inventory(products):\n",
        "  inventory = {product: int(input(f\"Enter the quantity of the {product}s available:\"))for product in products}\n",
        "\n",
        "  return(inventory)\n",
        "\n",
        "initialize_inventory(products)"
      ],
      "metadata": {
        "colab": {
          "base_uri": "https://localhost:8080/"
        },
        "id": "of8RJO4MaJLL",
        "outputId": "ddee2569-427f-46c7-b5eb-c8d59a68e146"
      },
      "id": "of8RJO4MaJLL",
      "execution_count": 18,
      "outputs": [
        {
          "name": "stdout",
          "output_type": "stream",
          "text": [
            "Enter the quantity of the t-shirts available:10\n",
            "Enter the quantity of the mugs available:10\n",
            "Enter the quantity of the books available:10\n",
            "Enter the quantity of the hats available:10\n",
            "Enter the quantity of the keychains available:10\n"
          ]
        },
        {
          "output_type": "execute_result",
          "data": {
            "text/plain": [
              "{'t-shirt': 10, 'mug': 10, 'book': 10, 'hat': 10, 'keychain': 10}"
            ]
          },
          "metadata": {},
          "execution_count": 18
        }
      ]
    },
    {
      "cell_type": "code",
      "source": [
        "\n",
        "def get_customer_orders ():\n",
        "  customer_orders = {product:(input(f\"How many {product} you want? \")) for product in products}\n",
        "\n",
        "  return customer_orders\n",
        "\n",
        "print(get_customer_orders())\n",
        "\n",
        "\n",
        "\n"
      ],
      "metadata": {
        "colab": {
          "base_uri": "https://localhost:8080/"
        },
        "id": "rFg4GrA6cB-L",
        "outputId": "5fc94bea-0e4a-498c-9b0f-ce31365af90e"
      },
      "id": "rFg4GrA6cB-L",
      "execution_count": 19,
      "outputs": [
        {
          "output_type": "stream",
          "name": "stdout",
          "text": [
            "How many t-shirt you want? 2\n",
            "How many mug you want? 2\n",
            "How many book you want? 3\n",
            "How many hat you want? 2\n",
            "How many keychain you want? 3\n",
            "{'t-shirt': '2', 'mug': '2', 'book': '3', 'hat': '2', 'keychain': '3'}\n"
          ]
        }
      ]
    },
    {
      "cell_type": "code",
      "source": [
        "#2.Modify the function get_customer_orders so it prompts the user to enter the number of customer orders and\n",
        "#gathers the product names using a loop and user input. Use comprehension.\n",
        "\n",
        "\n",
        "def get_customer_orders(products):\n",
        "  customer_orders = {prod for prod in products if input(f\"Do you want to order {prod}? (yes/no): \").lower() == \"yes\"}\n",
        "\n",
        "  print(\"These are the contents of your cart: \", customer_orders)\n",
        "\n",
        "  return customer_orders\n",
        "\n",
        "\n",
        "\n",
        "get_customer_orders(products)"
      ],
      "metadata": {
        "colab": {
          "base_uri": "https://localhost:8080/"
        },
        "id": "xI0K_Toyj1gv",
        "outputId": "72e0bbe6-7310-4074-d3dc-b83f5cd1efb4"
      },
      "id": "xI0K_Toyj1gv",
      "execution_count": 22,
      "outputs": [
        {
          "output_type": "stream",
          "name": "stdout",
          "text": [
            "Do you want to order t-shirt? (yes/no): yes\n",
            "Do you want to order mug? (yes/no): no\n",
            "Do you want to order book? (yes/no): ni\n",
            "Do you want to order hat? (yes/no): no\n",
            "Do you want to order keychain? (yes/no): no\n",
            "These are the contents of your cart:  {'t-shirt'}\n"
          ]
        },
        {
          "output_type": "execute_result",
          "data": {
            "text/plain": [
              "{'t-shirt'}"
            ]
          },
          "metadata": {},
          "execution_count": 22
        }
      ]
    },
    {
      "cell_type": "code",
      "source": [
        "# 3 Add a new function to calculate the total price of the customer order.\n",
        "#For each product in customer_orders, prompt the user to enter the price of that product.\n",
        "# Use comprehension to calculate the total price. Note: assume that the user can only have 1 unit of each product.\n",
        "\n",
        "def final_price(customer_order):\n",
        "  final_price = [int(input(f\"How much does a {prod} cost?\")) for prod in customer_order]\n",
        "\n",
        "  return sum(final_price)\n",
        "\n"
      ],
      "metadata": {
        "id": "Y0xhZYBclo9-"
      },
      "id": "Y0xhZYBclo9-",
      "execution_count": 57,
      "outputs": []
    },
    {
      "cell_type": "code",
      "source": [
        "#4 Modify the update_inventory function to remove the product from the inventory if its quantity becomes zero\n",
        "#after fulfilling the customer orders. Use comprehension to filter out the products with a quantity of zero from the inventory.\n",
        "\n",
        "def update_inventory(customer_order, inventory):\n",
        "  inventory = {item:inventory[item]-int(input(f\"Select the quantity of {item}\")) if item in customer_order else inventory[item] for item in inventory}\n",
        "  updated_inventory = {item: qty for item, qty in inventory.items() if qty > 0}\n",
        "  return updated_inventory\n",
        "\n",
        "\n",
        "\n",
        "#update_inventory(customer_orders, inventory)\n"
      ],
      "metadata": {
        "id": "YUbYtSeZnmFq"
      },
      "id": "YUbYtSeZnmFq",
      "execution_count": 58,
      "outputs": []
    }
  ],
  "metadata": {
    "kernelspec": {
      "display_name": "Python 3 (ipykernel)",
      "language": "python",
      "name": "python3"
    },
    "language_info": {
      "codemirror_mode": {
        "name": "ipython",
        "version": 3
      },
      "file_extension": ".py",
      "mimetype": "text/x-python",
      "name": "python",
      "nbconvert_exporter": "python",
      "pygments_lexer": "ipython3",
      "version": "3.9.13"
    },
    "colab": {
      "provenance": []
    }
  },
  "nbformat": 4,
  "nbformat_minor": 5
}